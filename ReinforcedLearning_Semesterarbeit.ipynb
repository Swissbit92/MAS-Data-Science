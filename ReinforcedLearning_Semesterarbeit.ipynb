{
  "nbformat": 4,
  "nbformat_minor": 0,
  "metadata": {
    "colab": {
      "provenance": [],
      "collapsed_sections": [
        "sYBUdoZT1tQt",
        "byFvF75SZTQ-"
      ],
      "toc_visible": true,
      "authorship_tag": "ABX9TyMcYhZiiYO2IOHWEYaKpEYj",
      "include_colab_link": true
    },
    "kernelspec": {
      "name": "python3",
      "display_name": "Python 3"
    },
    "language_info": {
      "name": "python"
    }
  },
  "cells": [
    {
      "cell_type": "markdown",
      "metadata": {
        "id": "view-in-github",
        "colab_type": "text"
      },
      "source": [
        "<a href=\"https://colab.research.google.com/github/Swissbit92/MAS-Data-Science/blob/master/ReinforcedLearning_Semesterarbeit.ipynb\" target=\"_parent\"><img src=\"https://colab.research.google.com/assets/colab-badge.svg\" alt=\"Open In Colab\"/></a>"
      ]
    },
    {
      "cell_type": "markdown",
      "source": [
        "# 0. Import / Load Libraries and Dependencies"
      ],
      "metadata": {
        "id": "p5mYffsYKNF8"
      }
    },
    {
      "cell_type": "code",
      "source": [
        "#Implementing the Python 3.7 Version as the library \"stable-baseline\" only works with that version or lower\n",
        "!sudo apt-get install python3.7\n",
        "!sudo update-alternatives --install /usr/bin/python3 python3 /usr/bin/python3.7 1\n",
        "!sudo update-alternatives --config python3\n",
        "!sudo apt install python3-pip"
      ],
      "metadata": {
        "colab": {
          "base_uri": "https://localhost:8080/"
        },
        "id": "4cgMDz35N6iS",
        "outputId": "7ee8d95c-1d3e-4a69-ecb8-0b674828dbf1"
      },
      "execution_count": null,
      "outputs": [
        {
          "output_type": "stream",
          "name": "stdout",
          "text": [
            "Reading package lists... Done\n",
            "Building dependency tree       \n",
            "Reading state information... Done\n",
            "python3.7 is already the newest version (3.7.16-1+focal1).\n",
            "0 upgraded, 0 newly installed, 0 to remove and 24 not upgraded.\n",
            "There are 3 choices for the alternative python3 (providing /usr/bin/python3).\n",
            "\n",
            "  Selection    Path                Priority   Status\n",
            "------------------------------------------------------------\n",
            "  0            /usr/bin/python3.9   2         auto mode\n",
            "* 1            /usr/bin/python3.7   1         manual mode\n",
            "  2            /usr/bin/python3.8   1         manual mode\n",
            "  3            /usr/bin/python3.9   2         manual mode\n",
            "\n",
            "Press <enter> to keep the current choice[*], or type selection number: 1\n",
            "Reading package lists... Done\n",
            "Building dependency tree       \n",
            "Reading state information... Done\n",
            "python3-pip is already the newest version (20.0.2-5ubuntu1.8).\n",
            "0 upgraded, 0 newly installed, 0 to remove and 24 not upgraded.\n"
          ]
        }
      ]
    },
    {
      "cell_type": "code",
      "source": [
        "#re-installing python distutils as otherwise they do not work after switching to python 3.7\n",
        "#https://docs.python.org/3/distutils/introduction.html\n",
        "#https://stackoverflow.com/questions/69919970/no-module-named-distutils-but-distutils-installed\n",
        "!sudo apt-get install --reinstall python3.7-distutils"
      ],
      "metadata": {
        "colab": {
          "base_uri": "https://localhost:8080/"
        },
        "id": "nxLOciCWOKNl",
        "outputId": "fa5cc8c9-28ad-49fc-ae88-7b889be4c1b2"
      },
      "execution_count": null,
      "outputs": [
        {
          "output_type": "stream",
          "name": "stdout",
          "text": [
            "Reading package lists... Done\n",
            "Building dependency tree       \n",
            "Reading state information... Done\n",
            "0 upgraded, 0 newly installed, 1 reinstalled, 0 to remove and 24 not upgraded.\n",
            "Need to get 187 kB of archives.\n",
            "After this operation, 0 B of additional disk space will be used.\n",
            "Get:1 http://ppa.launchpad.net/deadsnakes/ppa/ubuntu focal/main amd64 python3.7-distutils all 3.7.16-1+focal1 [187 kB]\n",
            "Fetched 187 kB in 1s (276 kB/s)\n",
            "debconf: unable to initialize frontend: Dialog\n",
            "debconf: (No usable dialog-like program is installed, so the dialog based frontend cannot be used. at /usr/share/perl5/Debconf/FrontEnd/Dialog.pm line 76, <> line 1.)\n",
            "debconf: falling back to frontend: Readline\n",
            "debconf: unable to initialize frontend: Readline\n",
            "debconf: (This frontend requires a controlling tty.)\n",
            "debconf: falling back to frontend: Teletype\n",
            "dpkg-preconfigure: unable to re-open stdin: \n",
            "(Reading database ... 123472 files and directories currently installed.)\n",
            "Preparing to unpack .../python3.7-distutils_3.7.16-1+focal1_all.deb ...\n",
            "Unpacking python3.7-distutils (3.7.16-1+focal1) over (3.7.16-1+focal1) ...\n",
            "Setting up python3.7-distutils (3.7.16-1+focal1) ...\n"
          ]
        }
      ]
    },
    {
      "cell_type": "code",
      "source": [
        "#Checking if the version now is accurate to the requirements\n",
        "!python --version"
      ],
      "metadata": {
        "colab": {
          "base_uri": "https://localhost:8080/"
        },
        "id": "JnapAbvuOb8p",
        "outputId": "87eef4d5-ff7a-4e7a-b8d8-ff94475155b0"
      },
      "execution_count": null,
      "outputs": [
        {
          "output_type": "stream",
          "name": "stdout",
          "text": [
            "Python 3.7.16\n"
          ]
        }
      ]
    },
    {
      "cell_type": "code",
      "source": [
        "#re-installing tensorflow to an a older version, as there seems to be a problem with the 'tensorflow.contrib' module otherwise\n",
        "#https://stackoverflow.com/questions/55082483/why-can-i-not-import-tensorflow-contrib-i-get-an-error-of-no-module-named-tenso\n",
        "!pip uninstall tensorflow"
      ],
      "metadata": {
        "id": "VGyfAWEV-Xmp",
        "colab": {
          "base_uri": "https://localhost:8080/"
        },
        "outputId": "6763642b-c6db-44ff-f6e6-188d21d49f25"
      },
      "execution_count": null,
      "outputs": [
        {
          "output_type": "stream",
          "name": "stdout",
          "text": [
            "Found existing installation: tensorflow 1.15.0\n",
            "Uninstalling tensorflow-1.15.0:\n",
            "  Would remove:\n",
            "    /usr/local/bin/estimator_ckpt_converter\n",
            "    /usr/local/bin/freeze_graph\n",
            "    /usr/local/bin/saved_model_cli\n",
            "    /usr/local/bin/tensorboard\n",
            "    /usr/local/bin/tf_upgrade_v2\n",
            "    /usr/local/bin/tflite_convert\n",
            "    /usr/local/bin/toco\n",
            "    /usr/local/bin/toco_from_protos\n",
            "    /usr/local/lib/python3.7/dist-packages/tensorflow-1.15.0.dist-info/*\n",
            "    /usr/local/lib/python3.7/dist-packages/tensorflow/*\n",
            "    /usr/local/lib/python3.7/dist-packages/tensorflow_core/*\n",
            "Proceed (y/n)? y\n",
            "  Successfully uninstalled tensorflow-1.15.0\n"
          ]
        }
      ]
    },
    {
      "cell_type": "code",
      "source": [
        "#https://stable-baselines3.readthedocs.io/en/master/modules/a2c.html\n",
        "#https://www.section.io/engineering-education/leveraging-openai-gym-and-the-anytrading-environment-for-trading/\n",
        "\n",
        "#installing the dedicated libraries and dependancies for the environment\n",
        "!pip3 install tensorflow-gpu==1.15.0 tensorflow==1.15.0 gym-anytrading gym stable-baselines\n",
        "!pip install yfinance \n",
        "!pip install pandas_ta"
      ],
      "metadata": {
        "colab": {
          "base_uri": "https://localhost:8080/"
        },
        "id": "Ku_V7ye3J4qF",
        "outputId": "281f2c6a-ac14-49db-b5db-00ffe0db0824"
      },
      "execution_count": null,
      "outputs": [
        {
          "output_type": "stream",
          "name": "stdout",
          "text": [
            "Looking in indexes: https://pypi.org/simple, https://us-python.pkg.dev/colab-wheels/public/simple/\n",
            "Requirement already satisfied: tensorflow-gpu==1.15.0 in /usr/local/lib/python3.7/dist-packages (1.15.0)\n",
            "Collecting tensorflow==1.15.0\n",
            "  Using cached tensorflow-1.15.0-cp37-cp37m-manylinux2010_x86_64.whl (412.3 MB)\n",
            "Requirement already satisfied: gym-anytrading in /usr/local/lib/python3.7/dist-packages (1.3.2)\n",
            "Requirement already satisfied: gym in /usr/local/lib/python3.7/dist-packages (0.21.0)\n",
            "Requirement already satisfied: stable-baselines in /usr/local/lib/python3.7/dist-packages (2.10.2)\n",
            "Requirement already satisfied: grpcio>=1.8.6 in /usr/local/lib/python3.7/dist-packages (from tensorflow-gpu==1.15.0) (1.53.0)\n",
            "Requirement already satisfied: termcolor>=1.1.0 in /usr/local/lib/python3.7/dist-packages (from tensorflow-gpu==1.15.0) (2.2.0)\n",
            "Requirement already satisfied: astor>=0.6.0 in /usr/local/lib/python3.7/dist-packages (from tensorflow-gpu==1.15.0) (0.8.1)\n",
            "Requirement already satisfied: keras-preprocessing>=1.0.5 in /usr/local/lib/python3.7/dist-packages (from tensorflow-gpu==1.15.0) (1.1.2)\n",
            "Requirement already satisfied: tensorflow-estimator==1.15.1 in /usr/local/lib/python3.7/dist-packages (from tensorflow-gpu==1.15.0) (1.15.1)\n",
            "Requirement already satisfied: google-pasta>=0.1.6 in /usr/local/lib/python3.7/dist-packages (from tensorflow-gpu==1.15.0) (0.2.0)\n",
            "Requirement already satisfied: gast==0.2.2 in /usr/local/lib/python3.7/dist-packages (from tensorflow-gpu==1.15.0) (0.2.2)\n",
            "Requirement already satisfied: tensorboard<1.16.0,>=1.15.0 in /usr/local/lib/python3.7/dist-packages (from tensorflow-gpu==1.15.0) (1.15.0)\n",
            "Requirement already satisfied: protobuf>=3.6.1 in /usr/local/lib/python3.7/dist-packages (from tensorflow-gpu==1.15.0) (4.22.3)\n",
            "Requirement already satisfied: wrapt>=1.11.1 in /usr/local/lib/python3.7/dist-packages (from tensorflow-gpu==1.15.0) (1.15.0)\n",
            "Requirement already satisfied: numpy<2.0,>=1.16.0 in /usr/local/lib/python3.7/dist-packages (from tensorflow-gpu==1.15.0) (1.21.6)\n",
            "Requirement already satisfied: keras-applications>=1.0.8 in /usr/local/lib/python3.7/dist-packages (from tensorflow-gpu==1.15.0) (1.0.8)\n",
            "Requirement already satisfied: wheel>=0.26 in /usr/lib/python3/dist-packages (from tensorflow-gpu==1.15.0) (0.34.2)\n",
            "Requirement already satisfied: opt-einsum>=2.3.2 in /usr/local/lib/python3.7/dist-packages (from tensorflow-gpu==1.15.0) (3.3.0)\n",
            "Requirement already satisfied: absl-py>=0.7.0 in /usr/local/lib/python3.7/dist-packages (from tensorflow-gpu==1.15.0) (1.4.0)\n",
            "Requirement already satisfied: six>=1.10.0 in /usr/local/lib/python3.7/dist-packages (from tensorflow-gpu==1.15.0) (1.16.0)\n",
            "Requirement already satisfied: matplotlib>=3.1.1 in /usr/local/lib/python3.7/dist-packages (from gym-anytrading) (3.5.3)\n",
            "Requirement already satisfied: pandas>=0.24.2 in /usr/local/lib/python3.7/dist-packages (from gym-anytrading) (1.3.5)\n",
            "Requirement already satisfied: importlib-metadata>=4.8.1; python_version < \"3.8\" in /usr/local/lib/python3.7/dist-packages (from gym) (4.13.0)\n",
            "Requirement already satisfied: cloudpickle>=1.2.0 in /usr/local/lib/python3.7/dist-packages (from gym) (2.2.1)\n",
            "Requirement already satisfied: joblib in /usr/local/lib/python3.7/dist-packages (from stable-baselines) (1.2.0)\n",
            "Requirement already satisfied: scipy in /usr/local/lib/python3.7/dist-packages (from stable-baselines) (1.7.3)\n",
            "Requirement already satisfied: opencv-python in /usr/local/lib/python3.7/dist-packages (from stable-baselines) (4.7.0.72)\n",
            "Requirement already satisfied: werkzeug>=0.11.15 in /usr/local/lib/python3.7/dist-packages (from tensorboard<1.16.0,>=1.15.0->tensorflow-gpu==1.15.0) (2.2.3)\n",
            "Requirement already satisfied: markdown>=2.6.8 in /usr/local/lib/python3.7/dist-packages (from tensorboard<1.16.0,>=1.15.0->tensorflow-gpu==1.15.0) (3.4.3)\n",
            "Requirement already satisfied: setuptools>=41.0.0 in /usr/lib/python3/dist-packages (from tensorboard<1.16.0,>=1.15.0->tensorflow-gpu==1.15.0) (45.2.0)\n",
            "Requirement already satisfied: h5py in /usr/local/lib/python3.7/dist-packages (from keras-applications>=1.0.8->tensorflow-gpu==1.15.0) (3.8.0)\n",
            "Requirement already satisfied: cycler>=0.10 in /usr/local/lib/python3.7/dist-packages (from matplotlib>=3.1.1->gym-anytrading) (0.11.0)\n",
            "Requirement already satisfied: packaging>=20.0 in /usr/local/lib/python3.7/dist-packages (from matplotlib>=3.1.1->gym-anytrading) (23.1)\n",
            "Requirement already satisfied: python-dateutil>=2.7 in /usr/local/lib/python3.7/dist-packages (from matplotlib>=3.1.1->gym-anytrading) (2.8.2)\n",
            "Requirement already satisfied: fonttools>=4.22.0 in /usr/local/lib/python3.7/dist-packages (from matplotlib>=3.1.1->gym-anytrading) (4.38.0)\n",
            "Requirement already satisfied: pyparsing>=2.2.1 in /usr/local/lib/python3.7/dist-packages (from matplotlib>=3.1.1->gym-anytrading) (3.0.9)\n",
            "Requirement already satisfied: pillow>=6.2.0 in /usr/local/lib/python3.7/dist-packages (from matplotlib>=3.1.1->gym-anytrading) (9.5.0)\n",
            "Requirement already satisfied: kiwisolver>=1.0.1 in /usr/local/lib/python3.7/dist-packages (from matplotlib>=3.1.1->gym-anytrading) (1.4.4)\n",
            "Requirement already satisfied: pytz>=2017.3 in /usr/local/lib/python3.7/dist-packages (from pandas>=0.24.2->gym-anytrading) (2023.3)\n",
            "Requirement already satisfied: typing-extensions>=3.6.4; python_version < \"3.8\" in /usr/local/lib/python3.7/dist-packages (from importlib-metadata>=4.8.1; python_version < \"3.8\"->gym) (4.5.0)\n",
            "Requirement already satisfied: zipp>=0.5 in /usr/local/lib/python3.7/dist-packages (from importlib-metadata>=4.8.1; python_version < \"3.8\"->gym) (3.15.0)\n",
            "Requirement already satisfied: MarkupSafe>=2.1.1 in /usr/local/lib/python3.7/dist-packages (from werkzeug>=0.11.15->tensorboard<1.16.0,>=1.15.0->tensorflow-gpu==1.15.0) (2.1.2)\n",
            "Installing collected packages: tensorflow\n",
            "Successfully installed tensorflow-1.15.0\n",
            "Looking in indexes: https://pypi.org/simple, https://us-python.pkg.dev/colab-wheels/public/simple/\n",
            "Requirement already satisfied: yfinance in /usr/local/lib/python3.7/dist-packages (0.2.17)\n",
            "Requirement already satisfied: requests>=2.26 in /usr/local/lib/python3.7/dist-packages (from yfinance) (2.28.2)\n",
            "Requirement already satisfied: frozendict>=2.3.4 in /usr/local/lib/python3.7/dist-packages (from yfinance) (2.3.7)\n",
            "Requirement already satisfied: pytz>=2022.5 in /usr/local/lib/python3.7/dist-packages (from yfinance) (2023.3)\n",
            "Requirement already satisfied: beautifulsoup4>=4.11.1 in /usr/local/lib/python3.7/dist-packages (from yfinance) (4.12.2)\n",
            "Requirement already satisfied: multitasking>=0.0.7 in /usr/local/lib/python3.7/dist-packages (from yfinance) (0.0.11)\n",
            "Requirement already satisfied: appdirs>=1.4.4 in /usr/local/lib/python3.7/dist-packages (from yfinance) (1.4.4)\n",
            "Requirement already satisfied: cryptography>=3.3.2 in /usr/local/lib/python3.7/dist-packages (from yfinance) (40.0.2)\n",
            "Requirement already satisfied: pandas>=1.3.0 in /usr/local/lib/python3.7/dist-packages (from yfinance) (1.3.5)\n",
            "Requirement already satisfied: html5lib>=1.1 in /usr/local/lib/python3.7/dist-packages (from yfinance) (1.1)\n",
            "Requirement already satisfied: numpy>=1.16.5 in /usr/local/lib/python3.7/dist-packages (from yfinance) (1.21.6)\n",
            "Requirement already satisfied: lxml>=4.9.1 in /usr/local/lib/python3.7/dist-packages (from yfinance) (4.9.2)\n",
            "Requirement already satisfied: idna<4,>=2.5 in /usr/local/lib/python3.7/dist-packages (from requests>=2.26->yfinance) (3.4)\n",
            "Requirement already satisfied: urllib3<1.27,>=1.21.1 in /usr/local/lib/python3.7/dist-packages (from requests>=2.26->yfinance) (1.26.15)\n",
            "Requirement already satisfied: certifi>=2017.4.17 in /usr/local/lib/python3.7/dist-packages (from requests>=2.26->yfinance) (2022.12.7)\n",
            "Requirement already satisfied: charset-normalizer<4,>=2 in /usr/local/lib/python3.7/dist-packages (from requests>=2.26->yfinance) (3.1.0)\n",
            "Requirement already satisfied: soupsieve>1.2 in /usr/local/lib/python3.7/dist-packages (from beautifulsoup4>=4.11.1->yfinance) (2.4)\n",
            "Requirement already satisfied: cffi>=1.12 in /usr/local/lib/python3.7/dist-packages (from cryptography>=3.3.2->yfinance) (1.15.1)\n",
            "Requirement already satisfied: python-dateutil>=2.7.3 in /usr/local/lib/python3.7/dist-packages (from pandas>=1.3.0->yfinance) (2.8.2)\n",
            "Requirement already satisfied: six>=1.9 in /usr/local/lib/python3.7/dist-packages (from html5lib>=1.1->yfinance) (1.16.0)\n",
            "Requirement already satisfied: webencodings in /usr/local/lib/python3.7/dist-packages (from html5lib>=1.1->yfinance) (0.5.1)\n",
            "Requirement already satisfied: pycparser in /usr/local/lib/python3.7/dist-packages (from cffi>=1.12->cryptography>=3.3.2->yfinance) (2.21)\n",
            "Looking in indexes: https://pypi.org/simple, https://us-python.pkg.dev/colab-wheels/public/simple/\n",
            "Requirement already satisfied: pandas_ta in /usr/local/lib/python3.7/dist-packages (0.3.14b0)\n",
            "Requirement already satisfied: pandas in /usr/local/lib/python3.7/dist-packages (from pandas_ta) (1.3.5)\n",
            "Requirement already satisfied: python-dateutil>=2.7.3 in /usr/local/lib/python3.7/dist-packages (from pandas->pandas_ta) (2.8.2)\n",
            "Requirement already satisfied: numpy>=1.17.3; platform_machine != \"aarch64\" and platform_machine != \"arm64\" and python_version < \"3.10\" in /usr/local/lib/python3.7/dist-packages (from pandas->pandas_ta) (1.21.6)\n",
            "Requirement already satisfied: pytz>=2017.3 in /usr/local/lib/python3.7/dist-packages (from pandas->pandas_ta) (2023.3)\n",
            "Requirement already satisfied: six>=1.5 in /usr/local/lib/python3.7/dist-packages (from python-dateutil>=2.7.3->pandas->pandas_ta) (1.16.0)\n"
          ]
        }
      ]
    },
    {
      "cell_type": "code",
      "source": [
        "#Basic / Processing libraries needed for Machine Learning & Visualization\n",
        "import sys\n",
        "import yfinance as yf\n",
        "import pandas as pd\n",
        "import pandas_ta as ta\n",
        "import numpy as np\n",
        "import matplotlib.pyplot as plt\n",
        "plt.style.use('fivethirtyeight')\n",
        "import tensorflow as tf\n",
        "from datetime import datetime\n",
        "\n",
        "#Gym libraries / RL environment\n",
        "import gym\n",
        "import gym_anytrading\n",
        "\n",
        "#RL relevant libraries\n",
        "from stable_baselines import A2C\n",
        "from stable_baselines.common.vec_env import DummyVecEnv\n",
        "from stable_baselines.common.policies import MlpLstmPolicy\n",
        "\n"
      ],
      "metadata": {
        "id": "9IizKkujKtEl",
        "colab": {
          "base_uri": "https://localhost:8080/",
          "height": 384
        },
        "outputId": "588a794a-6492-4a15-9528-bda1e958dfb3"
      },
      "execution_count": null,
      "outputs": [
        {
          "output_type": "error",
          "ename": "ModuleNotFoundError",
          "evalue": "ignored",
          "traceback": [
            "\u001b[0;31m---------------------------------------------------------------------------\u001b[0m",
            "\u001b[0;31mModuleNotFoundError\u001b[0m                       Traceback (most recent call last)",
            "\u001b[0;32m<ipython-input-77-72755e39a4a4>\u001b[0m in \u001b[0;36m<cell line: 5>\u001b[0;34m()\u001b[0m\n\u001b[1;32m      3\u001b[0m \u001b[0;32mimport\u001b[0m \u001b[0myfinance\u001b[0m \u001b[0;32mas\u001b[0m \u001b[0myf\u001b[0m\u001b[0;34m\u001b[0m\u001b[0;34m\u001b[0m\u001b[0m\n\u001b[1;32m      4\u001b[0m \u001b[0;32mimport\u001b[0m \u001b[0mpandas\u001b[0m \u001b[0;32mas\u001b[0m \u001b[0mpd\u001b[0m\u001b[0;34m\u001b[0m\u001b[0;34m\u001b[0m\u001b[0m\n\u001b[0;32m----> 5\u001b[0;31m \u001b[0;32mimport\u001b[0m \u001b[0mpandas_ta\u001b[0m \u001b[0;32mas\u001b[0m \u001b[0mta\u001b[0m\u001b[0;34m\u001b[0m\u001b[0;34m\u001b[0m\u001b[0m\n\u001b[0m\u001b[1;32m      6\u001b[0m \u001b[0;32mimport\u001b[0m \u001b[0mnumpy\u001b[0m \u001b[0;32mas\u001b[0m \u001b[0mnp\u001b[0m\u001b[0;34m\u001b[0m\u001b[0;34m\u001b[0m\u001b[0m\n\u001b[1;32m      7\u001b[0m \u001b[0;32mimport\u001b[0m \u001b[0mmatplotlib\u001b[0m\u001b[0;34m.\u001b[0m\u001b[0mpyplot\u001b[0m \u001b[0;32mas\u001b[0m \u001b[0mplt\u001b[0m\u001b[0;34m\u001b[0m\u001b[0;34m\u001b[0m\u001b[0m\n",
            "\u001b[0;31mModuleNotFoundError\u001b[0m: No module named 'pandas_ta'",
            "",
            "\u001b[0;31m---------------------------------------------------------------------------\u001b[0;32m\nNOTE: If your import is failing due to a missing package, you can\nmanually install dependencies using either !pip or !apt.\n\nTo view examples of installing some common dependencies, click the\n\"Open Examples\" button below.\n\u001b[0;31m---------------------------------------------------------------------------\u001b[0m\n"
          ],
          "errorDetails": {
            "actions": [
              {
                "action": "open_url",
                "actionText": "Open Examples",
                "url": "/notebooks/snippets/importing_libraries.ipynb"
              }
            ]
          }
        }
      ]
    },
    {
      "cell_type": "markdown",
      "source": [
        "# 1. Bring in Bitcoin data & Processing the Data"
      ],
      "metadata": {
        "id": "JDP1wKsfQ4Ot"
      }
    },
    {
      "cell_type": "markdown",
      "source": [],
      "metadata": {
        "id": "dQbfCRYAQXpL"
      }
    },
    {
      "cell_type": "code",
      "source": [
        "#setting the frame for the dat set: interval cannot be shorter than 1d as the data set from yahoo finance would need a paid subscription in order to do so\n",
        "#for this use case however, a 1d interval is sufficient\n",
        "start_date = datetime(2018, 1, 1)\n",
        "end_date = datetime(2022, 12, 31)\n",
        "interval = '1d'\n",
        "crypto_asset = 'BTC-USD'\n",
        "\n",
        "#loading the data and removing empty value rows / 'Na'\n",
        "df = yf.download(crypto_asset, start=start_date, end=end_date, interval=interval)\n",
        "\n",
        "df.head()"
      ],
      "metadata": {
        "colab": {
          "base_uri": "https://localhost:8080/",
          "height": 255
        },
        "id": "HC1cjVQBY0In",
        "outputId": "e5b6d9b0-bd20-4db9-ab90-a8753c18371a"
      },
      "execution_count": null,
      "outputs": [
        {
          "output_type": "stream",
          "name": "stdout",
          "text": [
            "\r[*********************100%***********************]  1 of 1 completed\n"
          ]
        },
        {
          "output_type": "execute_result",
          "data": {
            "text/plain": [
              "                    Open          High           Low         Close  \\\n",
              "Date                                                                 \n",
              "2018-01-01  14112.200195  14112.200195  13154.700195  13657.200195   \n",
              "2018-01-02  13625.000000  15444.599609  13163.599609  14982.099609   \n",
              "2018-01-03  14978.200195  15572.799805  14844.500000  15201.000000   \n",
              "2018-01-04  15270.700195  15739.700195  14522.200195  15599.200195   \n",
              "2018-01-05  15477.200195  17705.199219  15202.799805  17429.500000   \n",
              "\n",
              "               Adj Close       Volume  \n",
              "Date                                   \n",
              "2018-01-01  13657.200195  10291200000  \n",
              "2018-01-02  14982.099609  16846600192  \n",
              "2018-01-03  15201.000000  16871900160  \n",
              "2018-01-04  15599.200195  21783199744  \n",
              "2018-01-05  17429.500000  23840899072  "
            ],
            "text/html": [
              "\n",
              "  <div id=\"df-66c7c43a-f3e7-49ba-9b5c-e022dbca5f47\">\n",
              "    <div class=\"colab-df-container\">\n",
              "      <div>\n",
              "<style scoped>\n",
              "    .dataframe tbody tr th:only-of-type {\n",
              "        vertical-align: middle;\n",
              "    }\n",
              "\n",
              "    .dataframe tbody tr th {\n",
              "        vertical-align: top;\n",
              "    }\n",
              "\n",
              "    .dataframe thead th {\n",
              "        text-align: right;\n",
              "    }\n",
              "</style>\n",
              "<table border=\"1\" class=\"dataframe\">\n",
              "  <thead>\n",
              "    <tr style=\"text-align: right;\">\n",
              "      <th></th>\n",
              "      <th>Open</th>\n",
              "      <th>High</th>\n",
              "      <th>Low</th>\n",
              "      <th>Close</th>\n",
              "      <th>Adj Close</th>\n",
              "      <th>Volume</th>\n",
              "    </tr>\n",
              "    <tr>\n",
              "      <th>Date</th>\n",
              "      <th></th>\n",
              "      <th></th>\n",
              "      <th></th>\n",
              "      <th></th>\n",
              "      <th></th>\n",
              "      <th></th>\n",
              "    </tr>\n",
              "  </thead>\n",
              "  <tbody>\n",
              "    <tr>\n",
              "      <th>2018-01-01</th>\n",
              "      <td>14112.200195</td>\n",
              "      <td>14112.200195</td>\n",
              "      <td>13154.700195</td>\n",
              "      <td>13657.200195</td>\n",
              "      <td>13657.200195</td>\n",
              "      <td>10291200000</td>\n",
              "    </tr>\n",
              "    <tr>\n",
              "      <th>2018-01-02</th>\n",
              "      <td>13625.000000</td>\n",
              "      <td>15444.599609</td>\n",
              "      <td>13163.599609</td>\n",
              "      <td>14982.099609</td>\n",
              "      <td>14982.099609</td>\n",
              "      <td>16846600192</td>\n",
              "    </tr>\n",
              "    <tr>\n",
              "      <th>2018-01-03</th>\n",
              "      <td>14978.200195</td>\n",
              "      <td>15572.799805</td>\n",
              "      <td>14844.500000</td>\n",
              "      <td>15201.000000</td>\n",
              "      <td>15201.000000</td>\n",
              "      <td>16871900160</td>\n",
              "    </tr>\n",
              "    <tr>\n",
              "      <th>2018-01-04</th>\n",
              "      <td>15270.700195</td>\n",
              "      <td>15739.700195</td>\n",
              "      <td>14522.200195</td>\n",
              "      <td>15599.200195</td>\n",
              "      <td>15599.200195</td>\n",
              "      <td>21783199744</td>\n",
              "    </tr>\n",
              "    <tr>\n",
              "      <th>2018-01-05</th>\n",
              "      <td>15477.200195</td>\n",
              "      <td>17705.199219</td>\n",
              "      <td>15202.799805</td>\n",
              "      <td>17429.500000</td>\n",
              "      <td>17429.500000</td>\n",
              "      <td>23840899072</td>\n",
              "    </tr>\n",
              "  </tbody>\n",
              "</table>\n",
              "</div>\n",
              "      <button class=\"colab-df-convert\" onclick=\"convertToInteractive('df-66c7c43a-f3e7-49ba-9b5c-e022dbca5f47')\"\n",
              "              title=\"Convert this dataframe to an interactive table.\"\n",
              "              style=\"display:none;\">\n",
              "        \n",
              "  <svg xmlns=\"http://www.w3.org/2000/svg\" height=\"24px\"viewBox=\"0 0 24 24\"\n",
              "       width=\"24px\">\n",
              "    <path d=\"M0 0h24v24H0V0z\" fill=\"none\"/>\n",
              "    <path d=\"M18.56 5.44l.94 2.06.94-2.06 2.06-.94-2.06-.94-.94-2.06-.94 2.06-2.06.94zm-11 1L8.5 8.5l.94-2.06 2.06-.94-2.06-.94L8.5 2.5l-.94 2.06-2.06.94zm10 10l.94 2.06.94-2.06 2.06-.94-2.06-.94-.94-2.06-.94 2.06-2.06.94z\"/><path d=\"M17.41 7.96l-1.37-1.37c-.4-.4-.92-.59-1.43-.59-.52 0-1.04.2-1.43.59L10.3 9.45l-7.72 7.72c-.78.78-.78 2.05 0 2.83L4 21.41c.39.39.9.59 1.41.59.51 0 1.02-.2 1.41-.59l7.78-7.78 2.81-2.81c.8-.78.8-2.07 0-2.86zM5.41 20L4 18.59l7.72-7.72 1.47 1.35L5.41 20z\"/>\n",
              "  </svg>\n",
              "      </button>\n",
              "      \n",
              "  <style>\n",
              "    .colab-df-container {\n",
              "      display:flex;\n",
              "      flex-wrap:wrap;\n",
              "      gap: 12px;\n",
              "    }\n",
              "\n",
              "    .colab-df-convert {\n",
              "      background-color: #E8F0FE;\n",
              "      border: none;\n",
              "      border-radius: 50%;\n",
              "      cursor: pointer;\n",
              "      display: none;\n",
              "      fill: #1967D2;\n",
              "      height: 32px;\n",
              "      padding: 0 0 0 0;\n",
              "      width: 32px;\n",
              "    }\n",
              "\n",
              "    .colab-df-convert:hover {\n",
              "      background-color: #E2EBFA;\n",
              "      box-shadow: 0px 1px 2px rgba(60, 64, 67, 0.3), 0px 1px 3px 1px rgba(60, 64, 67, 0.15);\n",
              "      fill: #174EA6;\n",
              "    }\n",
              "\n",
              "    [theme=dark] .colab-df-convert {\n",
              "      background-color: #3B4455;\n",
              "      fill: #D2E3FC;\n",
              "    }\n",
              "\n",
              "    [theme=dark] .colab-df-convert:hover {\n",
              "      background-color: #434B5C;\n",
              "      box-shadow: 0px 1px 3px 1px rgba(0, 0, 0, 0.15);\n",
              "      filter: drop-shadow(0px 1px 2px rgba(0, 0, 0, 0.3));\n",
              "      fill: #FFFFFF;\n",
              "    }\n",
              "  </style>\n",
              "\n",
              "      <script>\n",
              "        const buttonEl =\n",
              "          document.querySelector('#df-66c7c43a-f3e7-49ba-9b5c-e022dbca5f47 button.colab-df-convert');\n",
              "        buttonEl.style.display =\n",
              "          google.colab.kernel.accessAllowed ? 'block' : 'none';\n",
              "\n",
              "        async function convertToInteractive(key) {\n",
              "          const element = document.querySelector('#df-66c7c43a-f3e7-49ba-9b5c-e022dbca5f47');\n",
              "          const dataTable =\n",
              "            await google.colab.kernel.invokeFunction('convertToInteractive',\n",
              "                                                     [key], {});\n",
              "          if (!dataTable) return;\n",
              "\n",
              "          const docLinkHtml = 'Like what you see? Visit the ' +\n",
              "            '<a target=\"_blank\" href=https://colab.research.google.com/notebooks/data_table.ipynb>data table notebook</a>'\n",
              "            + ' to learn more about interactive tables.';\n",
              "          element.innerHTML = '';\n",
              "          dataTable['output_type'] = 'display_data';\n",
              "          await google.colab.output.renderOutput(dataTable, element);\n",
              "          const docLink = document.createElement('div');\n",
              "          docLink.innerHTML = docLinkHtml;\n",
              "          element.appendChild(docLink);\n",
              "        }\n",
              "      </script>\n",
              "    </div>\n",
              "  </div>\n",
              "  "
            ]
          },
          "metadata": {},
          "execution_count": 63
        }
      ]
    },
    {
      "cell_type": "code",
      "source": [
        "#checking the data types of the data frame. Float64 is ok\n",
        "df.dtypes"
      ],
      "metadata": {
        "colab": {
          "base_uri": "https://localhost:8080/"
        },
        "id": "7FPTeJg0R_9q",
        "outputId": "e06fc587-bc0e-4e2e-b960-21a080097d7d"
      },
      "execution_count": null,
      "outputs": [
        {
          "output_type": "execute_result",
          "data": {
            "text/plain": [
              "Open         float64\n",
              "High         float64\n",
              "Low          float64\n",
              "Close        float64\n",
              "Adj Close    float64\n",
              "Volume         int64\n",
              "dtype: object"
            ]
          },
          "metadata": {},
          "execution_count": 64
        }
      ]
    },
    {
      "cell_type": "code",
      "source": [
        "#adding a couple of indicators to the dataframe from the pandas_ta library:\n",
        "#https://pypi.org/project/pandas-ta/\n",
        "df['RSI'] = ta.rsi(df.Close, length=15)\n",
        "df['MA20'] = ta.sma(df.Close, length=20)\n",
        "df['MA50'] = ta.sma(df.Close, length=50)\n",
        "df['MA100'] = ta.sma(df.Close, lenght=100)\n",
        "df['MA200'] = ta.sma(df.Close, length=200)\n",
        "\n",
        "#---------------------------------------------------------------\n",
        "\n",
        "#adding the MACD indicator to the data frame\n",
        "# Calculate the 12-day and 26-day EMA\n",
        "df_12EMA = df[\"Close\"].ewm(span=12, adjust=False).mean()\n",
        "df_26EMA = df[\"Close\"].ewm(span=26, adjust=False).mean()\n",
        "\n",
        "# Calculate the MACD and adding it to the data frame\n",
        "df[\"MACD\"] = df_12EMA - df_26EMA\n",
        "\n",
        "#---------------------------------------------------------------\n",
        "\n",
        "#Creating slope columns to identify the current up or down trend based on the indicators\n",
        "from scipy.stats import linregress\n",
        "def get_slope(array):\n",
        "    y = np.array(array)\n",
        "    x = np.arange(len(y))\n",
        "    slope, intercept, r_value, p_value, std_err = linregress(x,y)\n",
        "    return slope\n",
        "\n",
        "n_rollings = 6\n",
        "\n",
        "#executing the slope function for the individual indicators and adding them as new columns\n",
        "#https://school.stockcharts.com/doku.php?id=technical_indicators:slope\n",
        "df['slopeMA20'] = df['MA20'].rolling(window=n_rollings).apply(get_slope, raw=True)\n",
        "df['slopeMA50'] = df['MA50'].rolling(window=n_rollings).apply(get_slope, raw=True)\n",
        "df['slopeMA100'] = df['MA100'].rolling(window=n_rollings).apply(get_slope, raw=True)\n",
        "df['slopeMA200'] = df['MA200'].rolling(window=n_rollings).apply(get_slope, raw=True)\n",
        "df['RSISlope'] = df['RSI'].rolling(window=n_rollings).apply(get_slope, raw=True) \n",
        "\n",
        "#---------------------------------------------------------------\n",
        "\n",
        "#Adding a next close value & value change, based on previous history\n",
        "df['Input_Next_Close'] = df['Adj Close'].shift(-1)\n",
        "df['Input_ValueChange'] = df['Adj Close'] - df.Open\n",
        "df['Input_ValueChange'] = df['Input_ValueChange'].shift(-1)\n",
        "\n",
        "#cleaning the data of unneeded columns & empty / 'Na' values\n",
        "#test_data = df.drop(columns=['Open', 'Close','Adj Close', 'High', 'Low'])\n",
        "df.dropna(inplace=True)\n",
        "\n",
        "df.isna().sum()\n",
        "\n",
        "#---------------------------------------------------------------\n",
        "\n",
        "#defining the UP or DOWN Trend based on indicators = RSI Indicator\n",
        "def Signals(x):\n",
        "  #1 Indicates and DOWN Trend in Price\n",
        "  if x.MA20 < x.MA50 and x.RSI < 65:\n",
        "    return +1\n",
        "  #2 indicates and UP trend in price\n",
        "  elif x.MA20 > x.MA50 and x.RSI > 35:\n",
        "    return +2\n",
        "  #0 means the indication / trend is unclear with given indicators analysis\n",
        "  else:\n",
        "    return 0\n",
        "\n",
        "df['Input_Trend'] = df.apply(Signals, axis=1)\n",
        "\n",
        "#Checking the distribution of the \"Trends\"\n",
        "print(df['Input_Trend'].value_counts() *100/df['Input_Trend'].count())"
      ],
      "metadata": {
        "colab": {
          "base_uri": "https://localhost:8080/",
          "height": 241
        },
        "id": "63wTxgWO8tFY",
        "outputId": "3fdd459a-b064-4d77-b8b2-4d081937e902"
      },
      "execution_count": null,
      "outputs": [
        {
          "output_type": "error",
          "ename": "NameError",
          "evalue": "ignored",
          "traceback": [
            "\u001b[0;31m---------------------------------------------------------------------------\u001b[0m",
            "\u001b[0;31mNameError\u001b[0m                                 Traceback (most recent call last)",
            "\u001b[0;32m<ipython-input-69-9c31112f227d>\u001b[0m in \u001b[0;36m<cell line: 3>\u001b[0;34m()\u001b[0m\n\u001b[1;32m      1\u001b[0m \u001b[0;31m#adding a couple of indicators to the dataframe from the pandas_ta library:\u001b[0m\u001b[0;34m\u001b[0m\u001b[0;34m\u001b[0m\u001b[0m\n\u001b[1;32m      2\u001b[0m \u001b[0;31m#https://pypi.org/project/pandas-ta/\u001b[0m\u001b[0;34m\u001b[0m\u001b[0;34m\u001b[0m\u001b[0m\n\u001b[0;32m----> 3\u001b[0;31m \u001b[0mdf\u001b[0m\u001b[0;34m[\u001b[0m\u001b[0;34m'RSI'\u001b[0m\u001b[0;34m]\u001b[0m \u001b[0;34m=\u001b[0m \u001b[0mta\u001b[0m\u001b[0;34m.\u001b[0m\u001b[0mrsi\u001b[0m\u001b[0;34m(\u001b[0m\u001b[0mdf\u001b[0m\u001b[0;34m.\u001b[0m\u001b[0mClose\u001b[0m\u001b[0;34m,\u001b[0m \u001b[0mlength\u001b[0m\u001b[0;34m=\u001b[0m\u001b[0;36m15\u001b[0m\u001b[0;34m)\u001b[0m\u001b[0;34m\u001b[0m\u001b[0;34m\u001b[0m\u001b[0m\n\u001b[0m\u001b[1;32m      4\u001b[0m \u001b[0mdf\u001b[0m\u001b[0;34m[\u001b[0m\u001b[0;34m'MA20'\u001b[0m\u001b[0;34m]\u001b[0m \u001b[0;34m=\u001b[0m \u001b[0mta\u001b[0m\u001b[0;34m.\u001b[0m\u001b[0msma\u001b[0m\u001b[0;34m(\u001b[0m\u001b[0mdf\u001b[0m\u001b[0;34m.\u001b[0m\u001b[0mClose\u001b[0m\u001b[0;34m,\u001b[0m \u001b[0mlength\u001b[0m\u001b[0;34m=\u001b[0m\u001b[0;36m20\u001b[0m\u001b[0;34m)\u001b[0m\u001b[0;34m\u001b[0m\u001b[0;34m\u001b[0m\u001b[0m\n\u001b[1;32m      5\u001b[0m \u001b[0mdf\u001b[0m\u001b[0;34m[\u001b[0m\u001b[0;34m'MA50'\u001b[0m\u001b[0;34m]\u001b[0m \u001b[0;34m=\u001b[0m \u001b[0mta\u001b[0m\u001b[0;34m.\u001b[0m\u001b[0msma\u001b[0m\u001b[0;34m(\u001b[0m\u001b[0mdf\u001b[0m\u001b[0;34m.\u001b[0m\u001b[0mClose\u001b[0m\u001b[0;34m,\u001b[0m \u001b[0mlength\u001b[0m\u001b[0;34m=\u001b[0m\u001b[0;36m50\u001b[0m\u001b[0;34m)\u001b[0m\u001b[0;34m\u001b[0m\u001b[0;34m\u001b[0m\u001b[0m\n",
            "\u001b[0;31mNameError\u001b[0m: name 'ta' is not defined"
          ]
        }
      ]
    },
    {
      "cell_type": "code",
      "source": [
        "#Plotting the Price graph as CandleSticks and the Moving averages as lines\n",
        "import plotly.graph_objects as go\n",
        "from plotly.subplots import make_subplots\n",
        "from datetime import datetime\n",
        "\n",
        "fig = go.Figure(data=[go.Candlestick(x=df.index,\n",
        "                                     open = df['Open'],\n",
        "                                     high = df['High'],\n",
        "                                     low = df['Low'],\n",
        "                                     close = df['Close']),\n",
        "                      go.Scatter(x=df.index, y=df.MA20, line=dict(color='yellow', width=1), name=\"MA20\"),\n",
        "                      go.Scatter(x=df.index, y=df.MA50, line=dict(color='violet', width=1), name=\"MA50\"),\n",
        "                      go.Scatter(x=df.index, y=df.MA100, line=dict(color='blue', width=1), name=\"MA100\"),\n",
        "                      go.Scatter(x=df.index, y=df.MA200, line=dict(color='red', width=1), name=\"MA200\")])\n",
        "\n",
        "fig.show()"
      ],
      "metadata": {
        "colab": {
          "base_uri": "https://localhost:8080/",
          "height": 366
        },
        "id": "NgJ-V6-k9U9q",
        "outputId": "4de5732b-9096-4091-e095-3be27bdca6f3"
      },
      "execution_count": null,
      "outputs": [
        {
          "output_type": "error",
          "ename": "AttributeError",
          "evalue": "ignored",
          "traceback": [
            "\u001b[0;31m---------------------------------------------------------------------------\u001b[0m",
            "\u001b[0;31mAttributeError\u001b[0m                            Traceback (most recent call last)",
            "\u001b[0;32m<ipython-input-70-08ad10963e9b>\u001b[0m in \u001b[0;36m<cell line: 6>\u001b[0;34m()\u001b[0m\n\u001b[1;32m      9\u001b[0m                                      \u001b[0mlow\u001b[0m \u001b[0;34m=\u001b[0m \u001b[0mdf\u001b[0m\u001b[0;34m[\u001b[0m\u001b[0;34m'Low'\u001b[0m\u001b[0;34m]\u001b[0m\u001b[0;34m,\u001b[0m\u001b[0;34m\u001b[0m\u001b[0;34m\u001b[0m\u001b[0m\n\u001b[1;32m     10\u001b[0m                                      close = df['Close']),\n\u001b[0;32m---> 11\u001b[0;31m                       \u001b[0mgo\u001b[0m\u001b[0;34m.\u001b[0m\u001b[0mScatter\u001b[0m\u001b[0;34m(\u001b[0m\u001b[0mx\u001b[0m\u001b[0;34m=\u001b[0m\u001b[0mdf\u001b[0m\u001b[0;34m.\u001b[0m\u001b[0mindex\u001b[0m\u001b[0;34m,\u001b[0m \u001b[0my\u001b[0m\u001b[0;34m=\u001b[0m\u001b[0mdf\u001b[0m\u001b[0;34m.\u001b[0m\u001b[0mMA20\u001b[0m\u001b[0;34m,\u001b[0m \u001b[0mline\u001b[0m\u001b[0;34m=\u001b[0m\u001b[0mdict\u001b[0m\u001b[0;34m(\u001b[0m\u001b[0mcolor\u001b[0m\u001b[0;34m=\u001b[0m\u001b[0;34m'yellow'\u001b[0m\u001b[0;34m,\u001b[0m \u001b[0mwidth\u001b[0m\u001b[0;34m=\u001b[0m\u001b[0;36m1\u001b[0m\u001b[0;34m)\u001b[0m\u001b[0;34m,\u001b[0m \u001b[0mname\u001b[0m\u001b[0;34m=\u001b[0m\u001b[0;34m\"MA20\"\u001b[0m\u001b[0;34m)\u001b[0m\u001b[0;34m,\u001b[0m\u001b[0;34m\u001b[0m\u001b[0;34m\u001b[0m\u001b[0m\n\u001b[0m\u001b[1;32m     12\u001b[0m                       \u001b[0mgo\u001b[0m\u001b[0;34m.\u001b[0m\u001b[0mScatter\u001b[0m\u001b[0;34m(\u001b[0m\u001b[0mx\u001b[0m\u001b[0;34m=\u001b[0m\u001b[0mdf\u001b[0m\u001b[0;34m.\u001b[0m\u001b[0mindex\u001b[0m\u001b[0;34m,\u001b[0m \u001b[0my\u001b[0m\u001b[0;34m=\u001b[0m\u001b[0mdf\u001b[0m\u001b[0;34m.\u001b[0m\u001b[0mMA50\u001b[0m\u001b[0;34m,\u001b[0m \u001b[0mline\u001b[0m\u001b[0;34m=\u001b[0m\u001b[0mdict\u001b[0m\u001b[0;34m(\u001b[0m\u001b[0mcolor\u001b[0m\u001b[0;34m=\u001b[0m\u001b[0;34m'violet'\u001b[0m\u001b[0;34m,\u001b[0m \u001b[0mwidth\u001b[0m\u001b[0;34m=\u001b[0m\u001b[0;36m1\u001b[0m\u001b[0;34m)\u001b[0m\u001b[0;34m,\u001b[0m \u001b[0mname\u001b[0m\u001b[0;34m=\u001b[0m\u001b[0;34m\"MA50\"\u001b[0m\u001b[0;34m)\u001b[0m\u001b[0;34m,\u001b[0m\u001b[0;34m\u001b[0m\u001b[0;34m\u001b[0m\u001b[0m\n\u001b[1;32m     13\u001b[0m                       \u001b[0mgo\u001b[0m\u001b[0;34m.\u001b[0m\u001b[0mScatter\u001b[0m\u001b[0;34m(\u001b[0m\u001b[0mx\u001b[0m\u001b[0;34m=\u001b[0m\u001b[0mdf\u001b[0m\u001b[0;34m.\u001b[0m\u001b[0mindex\u001b[0m\u001b[0;34m,\u001b[0m \u001b[0my\u001b[0m\u001b[0;34m=\u001b[0m\u001b[0mdf\u001b[0m\u001b[0;34m.\u001b[0m\u001b[0mMA100\u001b[0m\u001b[0;34m,\u001b[0m \u001b[0mline\u001b[0m\u001b[0;34m=\u001b[0m\u001b[0mdict\u001b[0m\u001b[0;34m(\u001b[0m\u001b[0mcolor\u001b[0m\u001b[0;34m=\u001b[0m\u001b[0;34m'blue'\u001b[0m\u001b[0;34m,\u001b[0m \u001b[0mwidth\u001b[0m\u001b[0;34m=\u001b[0m\u001b[0;36m1\u001b[0m\u001b[0;34m)\u001b[0m\u001b[0;34m,\u001b[0m \u001b[0mname\u001b[0m\u001b[0;34m=\u001b[0m\u001b[0;34m\"MA100\"\u001b[0m\u001b[0;34m)\u001b[0m\u001b[0;34m,\u001b[0m\u001b[0;34m\u001b[0m\u001b[0;34m\u001b[0m\u001b[0m\n",
            "\u001b[0;32m/usr/local/lib/python3.9/dist-packages/pandas/core/generic.py\u001b[0m in \u001b[0;36m__getattr__\u001b[0;34m(self, name)\u001b[0m\n\u001b[1;32m   5900\u001b[0m         ):\n\u001b[1;32m   5901\u001b[0m             \u001b[0;32mreturn\u001b[0m \u001b[0mself\u001b[0m\u001b[0;34m[\u001b[0m\u001b[0mname\u001b[0m\u001b[0;34m]\u001b[0m\u001b[0;34m\u001b[0m\u001b[0;34m\u001b[0m\u001b[0m\n\u001b[0;32m-> 5902\u001b[0;31m         \u001b[0;32mreturn\u001b[0m \u001b[0mobject\u001b[0m\u001b[0;34m.\u001b[0m\u001b[0m__getattribute__\u001b[0m\u001b[0;34m(\u001b[0m\u001b[0mself\u001b[0m\u001b[0;34m,\u001b[0m \u001b[0mname\u001b[0m\u001b[0;34m)\u001b[0m\u001b[0;34m\u001b[0m\u001b[0;34m\u001b[0m\u001b[0m\n\u001b[0m\u001b[1;32m   5903\u001b[0m \u001b[0;34m\u001b[0m\u001b[0m\n\u001b[1;32m   5904\u001b[0m     \u001b[0;32mdef\u001b[0m \u001b[0m__setattr__\u001b[0m\u001b[0;34m(\u001b[0m\u001b[0mself\u001b[0m\u001b[0;34m,\u001b[0m \u001b[0mname\u001b[0m\u001b[0;34m:\u001b[0m \u001b[0mstr\u001b[0m\u001b[0;34m,\u001b[0m \u001b[0mvalue\u001b[0m\u001b[0;34m)\u001b[0m \u001b[0;34m->\u001b[0m \u001b[0;32mNone\u001b[0m\u001b[0;34m:\u001b[0m\u001b[0;34m\u001b[0m\u001b[0;34m\u001b[0m\u001b[0m\n",
            "\u001b[0;31mAttributeError\u001b[0m: 'DataFrame' object has no attribute 'MA20'"
          ]
        }
      ]
    },
    {
      "cell_type": "markdown",
      "source": [
        "# 2. Building a \"dummy\" RL environment "
      ],
      "metadata": {
        "id": "ZvgVivJEiLDA"
      }
    },
    {
      "cell_type": "code",
      "source": [
        "#Creating a 'stock' dummy environment for the RL environment = 'stocks-v0'\n",
        "#the frame_bound defines how much of the data frame to be used.\n",
        "#the frame_bound needs to be at least on the level of the window size bc. the window_size defines the 'look back' for the bot to use for the trading decisions\n",
        "env = gym.make('stocks-v0', df=df, frame_bound=(10,1000), window_size=5)"
      ],
      "metadata": {
        "id": "xscxIkyVhP8O"
      },
      "execution_count": null,
      "outputs": []
    },
    {
      "cell_type": "code",
      "source": [
        "#gives me an array of the prizes in the env.\n",
        "env.prices"
      ],
      "metadata": {
        "colab": {
          "base_uri": "https://localhost:8080/"
        },
        "id": "N5diBzZvi5hY",
        "outputId": "d6eb5c7c-2120-4f30-cd2d-d7815d169be1"
      },
      "execution_count": null,
      "outputs": [
        {
          "output_type": "execute_result",
          "data": {
            "text/plain": [
              "array([17527.        , 16477.59960938, 15170.09960938, 14595.40039062,\n",
              "       14973.29980469, 13405.79980469, 13980.59960938, 14360.20019531,\n",
              "       13772.        , 13819.79980469, 11490.5       , 11188.59960938,\n",
              "       11474.90039062, 11607.40039062, 12899.20019531, 11600.09960938,\n",
              "       10931.40039062, 10868.40039062, 11359.40039062, 11259.40039062,\n",
              "       11171.40039062, 11440.70019531, 11786.29980469, 11296.40039062,\n",
              "       10106.29980469, 10221.09960938,  9170.54003906,  8830.75      ,\n",
              "        9174.91015625,  8277.00976562,  6955.27001953,  7754.        ,\n",
              "        7621.29980469,  8265.58984375,  8736.98046875,  8621.90039062,\n",
              "        8129.97021484,  8926.5703125 ,  8598.30957031,  9494.62988281,\n",
              "       10166.40039062, 10233.90039062, 11112.70019531, 10551.79980469,\n",
              "       11225.29980469, 11403.70019531, 10690.40039062, 10005.        ,\n",
              "       10301.09960938,  9813.0703125 ,  9664.73046875, 10366.70019531,\n",
              "       10725.59960938, 10397.90039062, 10951.        , 11086.40039062,\n",
              "       11489.70019531, 11512.59960938, 11573.29980469, 10779.90039062,\n",
              "        9965.5703125 ,  9395.00976562,  9337.54980469,  8866.        ,\n",
              "        9578.62988281,  9205.12011719,  9194.84960938,  8269.80957031,\n",
              "        8300.86035156,  8338.34960938,  7916.87988281,  8223.6796875 ,\n",
              "        8630.65039062,  8913.46972656,  8929.28027344,  8728.46972656,\n",
              "        8879.62011719,  8668.12011719,  8495.78027344,  8209.40039062,\n",
              "        7833.04003906,  7954.47998047,  7165.70019531,  6890.52001953,\n",
              "        6973.52978516,  6844.22998047,  7083.79980469,  7456.10986328,\n",
              "        6853.83984375,  6811.47021484,  6636.31982422,  6911.08984375,\n",
              "        7023.52001953,  6770.72998047,  6834.75976562,  6968.31982422,\n",
              "        7889.25      ,  7895.95996094,  7986.24023438,  8329.11035156,\n",
              "        8058.66992188,  7902.08984375,  8163.41992188,  8294.30957031,\n",
              "        8845.83007812,  8895.58007812,  8802.45996094,  8930.87988281,\n",
              "        9697.5       ,  8845.74023438,  9281.50976562,  8987.04980469,\n",
              "        9348.48046875,  9419.08007812,  9240.54980469,  9119.00976562,\n",
              "        9235.91992188,  9743.86035156,  9700.75976562,  9858.15039062,\n",
              "        9654.79980469,  9373.00976562,  9234.8203125 ,  9325.1796875 ,\n",
              "        9043.94042969,  8441.49023438,  8504.88964844,  8723.94042969,\n",
              "        8716.79003906,  8510.37988281,  8368.83007812,  8094.31982422,\n",
              "        8250.96972656,  8247.1796875 ,  8513.25      ,  8418.99023438,\n",
              "        8041.77978516,  7557.81982422,  7587.33984375,  7480.14013672,\n",
              "        7355.87988281,  7368.22021484,  7135.99023438,  7472.58984375,\n",
              "        7406.52001953,  7494.16992188,  7541.45019531,  7643.45019531,\n",
              "        7720.25      ,  7514.47021484,  7633.75976562,  7653.97998047,\n",
              "        7678.24023438,  7624.91992188,  7531.97998047,  6786.02001953,\n",
              "        6906.91992188,  6582.35986328,  6349.89990234,  6675.35009766,\n",
              "        6456.58007812,  6550.16015625,  6499.27001953,  6734.81982422,\n",
              "        6769.93994141,  6776.54980469,  6729.74023438,  6083.68994141,\n",
              "        6162.47998047,  6173.22998047,  6249.18017578,  6093.66992188,\n",
              "        6157.12988281,  5903.43994141,  6218.29980469,  6404.        ,\n",
              "        6385.81982422,  6614.18017578,  6529.58984375,  6597.54980469,\n",
              "        6639.14013672,  6673.5       ,  6856.93017578,  6773.87988281,\n",
              "        6741.75      ,  6329.95019531,  6394.70996094,  6228.81005859,\n",
              "        6238.04980469,  6276.12011719,  6359.64013672,  6741.75      ,\n",
              "        7321.04003906,  7370.77978516,  7466.85986328,  7354.12988281,\n",
              "        7419.29003906,  7418.49023438,  7711.10986328,  8424.26953125,\n",
              "        8181.39013672,  7951.58007812,  8165.00976562,  8192.15039062,\n",
              "        8218.45996094,  8180.47998047,  7780.43994141,  7624.91015625,\n",
              "        7567.14990234,  7434.39013672,  7032.85009766,  7068.47998047,\n",
              "        6951.79980469,  6753.12011719,  6305.79980469,  6568.22998047,\n",
              "        6184.70996094,  6295.72998047,  6322.68994141,  6297.56982422,\n",
              "        6199.70996094,  6308.52001953,  6334.72998047,  6580.62988281,\n",
              "        6423.75976562,  6506.06982422,  6308.52978516,  6488.75976562,\n",
              "        6376.70996094,  6534.87988281,  6719.95996094,  6763.18994141,\n",
              "        6707.25976562,  6884.64013672,  7096.27978516,  7047.16015625,\n",
              "        6978.22998047,  7037.58007812,  7193.25      ,  7272.72021484,\n",
              "        7260.06005859,  7361.66015625,  6792.83007812,  6529.16992188,\n",
              "        6467.06982422,  6225.97998047,  6300.85986328,  6329.70019531,\n",
              "        6321.20019531,  6351.79980469,  6517.31005859,  6512.70996094,\n",
              "        6543.20019531,  6517.18017578,  6281.20019531,  6371.29980469,\n",
              "        6398.54003906,  6519.66992188,  6734.95019531,  6721.97998047,\n",
              "        6710.62988281,  6595.41015625,  6446.47021484,  6495.        ,\n",
              "        6676.75      ,  6644.12988281,  6601.95996094,  6625.56005859,\n",
              "        6589.62011719,  6556.10009766,  6502.58984375,  6576.68994141,\n",
              "        6622.47998047,  6588.31005859,  6602.95019531,  6652.22998047,\n",
              "        6642.64013672,  6585.52978516,  6256.24023438,  6274.58007812,\n",
              "        6285.99023438,  6290.93017578,  6596.54003906,  6596.10986328,\n",
              "        6544.43017578,  6476.70996094,  6465.41015625,  6489.18994141,\n",
              "        6482.35009766,  6487.16015625,  6475.74023438,  6495.83984375,\n",
              "        6476.29003906,  6474.75      ,  6480.37988281,  6486.39013672,\n",
              "        6332.62988281,  6334.27001953,  6317.60986328,  6377.77978516,\n",
              "        6388.43994141,  6361.25976562,  6376.12988281,  6419.66015625,\n",
              "        6461.00976562,  6530.14013672,  6453.72021484,  6385.62011719,\n",
              "        6409.22021484,  6411.27001953,  6371.27001953,  6359.49023438,\n",
              "        5738.35009766,  5648.02978516,  5575.54980469,  5554.33007812,\n",
              "        5623.54003906,  4871.49023438,  4451.87011719,  4602.16992188,\n",
              "        4365.93994141,  4347.10986328,  3880.76000977,  4009.9699707 ,\n",
              "        3779.12988281,  3820.7199707 ,  4257.41992188,  4278.84667969,\n",
              "        4017.26855469,  4214.671875  ,  4139.87792969,  3894.13085938,\n",
              "        3956.89379883,  3753.99487305,  3521.10180664,  3419.93725586,\n",
              "        3476.11474609,  3614.234375  ,  3502.65600586,  3424.58813477,\n",
              "        3486.95019531,  3313.67724609,  3242.48486328,  3236.76171875,\n",
              "        3252.83911133,  3545.86474609,  3696.05908203,  3745.95068359,\n",
              "        4134.44140625,  3896.54370117,  4014.18261719,  3998.98022461,\n",
              "        4078.59912109,  3815.49072266,  3857.29760742,  3654.83349609,\n",
              "        3923.91870117,  3820.40869141,  3865.95263672,  3742.70043945,\n",
              "        3843.52001953,  3943.40942383,  3836.74121094,  3857.7175293 ,\n",
              "        3845.19458008,  4076.63256836,  4025.24829102,  4030.84790039,\n",
              "        4035.29638672,  3678.92456055,  3687.36547852,  3661.30102539,\n",
              "        3552.953125  ,  3706.05224609,  3630.67529297,  3655.00683594,\n",
              "        3678.56396484,  3657.83935547,  3728.56835938,  3601.01367188,\n",
              "        3576.0324707 ,  3604.57714844,  3585.12304688,  3600.86547852,\n",
              "        3599.76586914,  3602.46044922,  3583.96582031,  3470.45043945,\n",
              "        3448.11694336,  3486.18164062,  3457.79272461,  3487.9453125 ,\n",
              "        3521.06079102,  3464.01342773,  3459.15405273,  3466.35742188,\n",
              "        3413.76782227,  3399.47167969,  3666.78027344,  3671.20361328,\n",
              "        3690.18823242,  3648.43066406,  3653.52856445,  3632.07055664,\n",
              "        3616.88085938,  3620.81079102,  3629.78759766,  3673.83618164,\n",
              "        3915.71435547,  3947.09448242,  3999.82055664,  3954.11816406,\n",
              "        4005.52661133,  4142.52685547,  3810.42749023,  3882.69628906,\n",
              "        3854.35791016,  3851.04736328,  3854.78540039,  3859.58374023,\n",
              "        3864.41503906,  3847.17578125,  3761.55712891,  3896.375     ,\n",
              "        3903.94262695,  3911.484375  ,  3901.1315918 ,  3963.3137207 ,\n",
              "        3951.59985352,  3905.22729492,  3909.15625   ,  3906.71728516,\n",
              "        3924.36914062,  3960.91113281,  4048.72583008,  4025.22900391,\n",
              "        4032.50732422,  4071.19018555,  4087.47631836,  4029.3269043 ,\n",
              "        4023.96826172,  4035.82641602,  4022.16821289,  3963.07055664,\n",
              "        3985.08081055,  4087.06616211,  4069.10717773,  4098.37451172,\n",
              "        4106.66015625,  4105.40429688,  4158.18310547,  4879.87792969,\n",
              "        4973.02197266,  4922.79882812,  5036.68115234,  5059.81738281,\n",
              "        5198.89697266,  5289.77099609,  5204.95849609,  5324.55175781,\n",
              "        5064.48779297,  5089.5390625 ,  5096.58642578,  5167.72216797,\n",
              "        5067.10839844,  5235.55957031,  5251.93798828,  5298.38574219,\n",
              "        5303.8125    ,  5337.88623047,  5314.53125   ,  5399.36523438,\n",
              "        5572.36230469,  5464.86669922,  5210.515625  ,  5279.34814453,\n",
              "        5268.29101562,  5285.13916016,  5247.35253906,  5350.7265625 ,\n",
              "        5402.69726562,  5505.28369141,  5768.28955078,  5831.16748047,\n",
              "        5795.70849609,  5746.80712891,  5829.50146484,  5982.45751953,\n",
              "        6174.52880859,  6378.84912109,  7204.77148438,  6972.37158203,\n",
              "        7814.91503906,  7994.41601562,  8205.16796875,  7884.90917969,\n",
              "        7343.89550781,  7271.20800781,  8197.68945312,  7978.30908203,\n",
              "        7963.32763672,  7680.06640625,  7881.84667969,  7987.37158203,\n",
              "        8052.54394531,  8673.21582031,  8805.77832031,  8719.96191406,\n",
              "        8659.48730469,  8319.47265625,  8574.50195312,  8564.01660156,\n",
              "        8742.95800781,  8208.99511719,  7707.77099609,  7824.23144531,\n",
              "        7822.0234375 ,  8043.95117188,  7954.12792969,  7688.07714844,\n",
              "        8000.32958984,  7927.71435547,  8145.85742188,  8230.92382812,\n",
              "        8693.83300781,  8838.375     ,  8994.48828125,  9320.35253906,\n",
              "        9081.76269531,  9273.52148438,  9527.16015625, 10144.55664062,\n",
              "       10701.69140625, 10855.37109375, 11011.10253906, 11790.91699219,\n",
              "       13016.23144531, 11182.80664062, 12407.33203125, 11959.37109375,\n",
              "       10817.15527344, 10583.13476562, 10801.67773438, 11961.26953125,\n",
              "       11215.4375    , 10978.45996094, 11208.55078125, 11450.84667969,\n",
              "       12285.95800781, 12573.8125    , 12156.51269531, 11358.66210938,\n",
              "       11815.98632812, 11392.37890625, 10256.05859375, 10895.08984375,\n",
              "        9477.64160156,  9693.80273438, 10666.48242188, 10530.73242188,\n",
              "       10767.13964844, 10599.10546875, 10343.10644531,  9900.76757812,\n",
              "        9811.92578125,  9911.84179688,  9870.30371094,  9477.67773438,\n",
              "        9552.86035156,  9519.14550781,  9607.42382812, 10085.62792969,\n",
              "       10399.66894531, 10518.17480469, 10821.7265625 , 10970.18457031,\n",
              "       11805.65332031, 11478.16894531, 11941.96875   , 11966.40722656,\n",
              "       11862.93652344, 11354.02441406, 11523.57910156, 11382.61621094,\n",
              "       10895.83007812, 10051.70410156, 10311.54589844, 10374.33886719,\n",
              "       10231.74414062, 10345.81054688, 10916.05371094, 10763.23242188,\n",
              "       10138.04980469, 10131.05566406, 10407.96484375, 10159.9609375 ,\n",
              "       10138.51757812, 10370.8203125 , 10185.5       ,  9754.42285156,\n",
              "        9510.20019531,  9598.17382812,  9630.6640625 ,  9757.97070312,\n",
              "       10346.76074219, 10623.54003906, 10594.49316406, 10575.53320312,\n",
              "       10353.30273438, 10517.25488281, 10441.27636719, 10334.97460938,\n",
              "       10115.97558594, 10178.37207031, 10410.12695312, 10360.546875  ,\n",
              "       10358.04882812, 10347.71289062, 10276.79394531, 10241.27246094,\n",
              "       10198.24804688, 10266.41503906, 10181.64160156, 10019.71679688,\n",
              "       10070.39257812,  9729.32421875,  8620.56640625,  8486.99316406,\n",
              "        8118.96777344,  8251.84570312,  8245.91503906,  8104.18554688,\n",
              "        8293.86816406,  8343.27636719,  8393.04199219,  8259.9921875 ,\n",
              "        8205.93945312,  8151.50048828,  7988.15576172,  8245.62304688,\n",
              "        8228.78320312,  8595.74023438,  8586.47363281,  8321.75683594,\n",
              "        8336.55566406,  8321.00585938,  8374.68652344,  8205.36914062,\n",
              "        8047.52685547,  8103.91113281,  7973.20751953,  7988.56054688,\n",
              "        8222.078125  ,  8243.72070312,  8078.203125  ,  7514.671875  ,\n",
              "        7493.48876953,  8660.70019531,  9244.97265625,  9551.71484375,\n",
              "        9256.1484375 ,  9427.6875    ,  9205.7265625 ,  9199.58496094,\n",
              "        9261.10449219,  9324.71777344,  9235.35449219,  9412.61230469,\n",
              "        9342.52734375,  9360.87988281,  9267.56152344,  8804.88085938,\n",
              "        8813.58203125,  9055.52636719,  8757.78808594,  8815.66210938,\n",
              "        8808.26269531,  8708.09472656,  8491.9921875 ,  8550.76074219,\n",
              "        8577.97558594,  8309.28613281,  8206.14550781,  8027.26806641,\n",
              "        7642.75      ,  7296.57763672,  7397.796875  ,  7047.91699219,\n",
              "        7146.13378906,  7218.37109375,  7531.66357422,  7463.10595703,\n",
              "        7761.24365234,  7569.62988281,  7424.29248047,  7321.98828125,\n",
              "        7320.14550781,  7252.03466797,  7448.30761719,  7546.99658203,\n",
              "        7556.23779297,  7564.34521484,  7400.89941406,  7278.11962891,\n",
              "        7217.42724609,  7243.13427734,  7269.68457031,  7124.67382812,\n",
              "        7152.30175781,  6932.48046875,  6640.51513672,  7276.80273438,\n",
              "        7202.84423828,  7218.81640625,  7191.15869141,  7511.58886719,\n",
              "        7355.62841797,  7322.53222656,  7275.15576172,  7238.96679688,\n",
              "        7290.08837891,  7317.99023438,  7422.65283203,  7292.99511719,\n",
              "        7193.59912109,  7200.17431641,  6985.47021484,  7344.88427734,\n",
              "        7410.65673828,  7411.31738281,  7769.21923828,  8163.69238281,\n",
              "        8079.86279297,  7879.07128906,  8166.55419922,  8037.53759766,\n",
              "        8192.49414062,  8144.19433594,  8827.76464844,  8807.01074219,\n",
              "        8723.78613281,  8929.03808594,  8942.80859375,  8706.24511719,\n",
              "        8657.64257812,  8745.89453125,  8680.87597656,  8406.515625  ,\n",
              "        8445.43457031,  8367.84765625,  8596.83007812,  8909.81933594,\n",
              "        9358.58984375,  9316.62988281,  9508.99316406,  9350.52929688,\n",
              "        9392.875     ,  9344.36523438,  9293.52148438,  9180.96289062,\n",
              "        9613.42382812,  9729.80175781,  9795.94335938,  9865.11914062,\n",
              "       10116.67382812,  9856.61132812, 10208.23632812, 10326.0546875 ,\n",
              "       10214.37988281, 10312.11621094,  9889.42480469,  9934.43359375,\n",
              "        9690.14257812, 10141.99609375,  9633.38671875,  9608.47558594,\n",
              "        9686.44140625,  9663.18164062,  9924.515625  ,  9650.17480469,\n",
              "        9341.70507812,  8820.52246094,  8784.49414062,  8672.45507812,\n",
              "        8599.50878906,  8562.45410156,  8869.66992188,  8787.78613281,\n",
              "        8755.24609375,  9078.76269531,  9122.54589844,  8909.95410156,\n",
              "        8108.11621094,  7923.64453125,  7909.72949219,  7911.43017578,\n",
              "        4970.78808594,  5563.70703125,  5200.36621094,  5392.31494141,\n",
              "        5014.47998047,  5225.62939453,  5238.43847656,  6191.19287109,\n",
              "        6198.77832031,  6185.06640625,  5830.25488281,  6416.31494141,\n",
              "        6734.80371094,  6681.06298828,  6716.44042969,  6469.79833984,\n",
              "        6242.19384766,  5922.04296875,  6429.84179688,  6438.64453125,\n",
              "        6606.77636719,  6793.62451172,  6733.38720703,  6867.52734375,\n",
              "        6791.12939453,  7271.78125   ,  7176.41455078,  7334.09863281,\n",
              "        7302.08935547,  6865.49316406,  6859.08300781,  6971.09179688,\n",
              "        6845.03759766,  6842.42773438,  6642.10986328,  7116.80419922,\n",
              "        7096.18457031,  7257.66503906,  7189.42480469,  6881.95849609,\n",
              "        6880.32324219,  7117.20751953,  7429.72460938,  7550.90087891,\n",
              "        7569.93603516,  7679.8671875 ,  7795.60107422,  7807.05859375,\n",
              "        8801.03808594,  8658.55371094,  8864.76660156,  8988.59667969,\n",
              "        8897.46875   ,  8912.65429688,  9003.0703125 ,  9268.76171875,\n",
              "        9951.51855469,  9842.66601562,  9593.89648438,  8756.43066406,\n",
              "        8601.79589844,  8804.47753906,  9269.98730469,  9733.72167969,\n",
              "        9328.19726562,  9377.01367188,  9670.73925781,  9726.57519531,\n",
              "        9729.03808594,  9522.98144531,  9081.76171875,  9182.57714844,\n",
              "        9209.28710938,  8790.36816406,  8906.93457031,  8835.05273438,\n",
              "        9181.01757812,  9525.75097656,  9439.12402344,  9700.4140625 ,\n",
              "        9461.05859375, 10167.26855469,  9529.80371094,  9656.71777344,\n",
              "        9800.63671875,  9665.53320312,  9653.6796875 ,  9758.85253906,\n",
              "        9771.48925781,  9795.70019531,  9870.09472656,  9321.78125   ,\n",
              "        9480.84375   ,  9475.27734375,  9386.78808594,  9450.70214844,\n",
              "        9538.02441406,  9480.25488281,  9411.84082031,  9288.01855469,\n",
              "        9332.34082031,  9303.62988281,  9648.71777344,  9629.65820312,\n",
              "        9313.61035156,  9264.81347656,  9162.91796875,  9045.390625  ,\n",
              "        9143.58203125,  9190.85449219,  9137.99316406,  9228.32519531,\n",
              "        9123.41015625,  9087.30371094,  9132.48828125,  9073.94238281,\n",
              "        9375.47460938,  9252.27734375,  9428.33300781,  9277.96777344,\n",
              "        9278.80761719,  9240.34667969,  9276.5       ,  9243.61425781,\n",
              "        9243.21386719,  9192.83691406,  9132.22753906,  9151.39257812,\n",
              "        9159.04003906,  9185.81738281,  9164.23144531,  9374.88769531,\n",
              "        9525.36328125,  9581.07226562,  9536.89257812,  9677.11328125,\n",
              "        9905.16699219, 10990.87304688, 10912.82324219, 11100.46777344,\n",
              "       11111.21386719, 11323.46679688, 11759.59277344, 11053.61425781,\n",
              "       11246.34863281, 11205.89257812, 11747.02246094, 11779.7734375 ,\n",
              "       11601.47265625, 11754.04589844, 11675.73925781, 11878.11132812,\n",
              "       11410.52539062, 11584.93457031, 11784.13769531, 11768.87109375,\n",
              "       11865.69824219, 11892.80371094, 12254.40234375, 11991.23339844,\n",
              "       11758.28320312, 11878.37207031, 11592.48925781, 11681.82519531,\n",
              "       11664.84765625, 11774.59570312, 11366.13476562, 11488.36328125,\n",
              "       11323.39746094, 11542.5       , 11506.86523438, 11711.50585938,\n",
              "       11680.8203125 , 11970.47851562, 11414.03417969, 10245.296875  ,\n",
              "       10511.81347656, 10169.56738281, 10280.3515625 , 10369.56347656,\n",
              "       10131.51660156, 10242.34765625, 10363.13867188, 10400.91503906,\n",
              "       10442.17089844, 10323.75585938, 10680.83789062, 10796.95117188,\n",
              "       10974.90527344, 10948.99023438, 10944.5859375 , 11094.34667969,\n",
              "       10938.27148438, 10462.25976562, 10538.45996094, 10246.18652344,\n",
              "       10760.06640625, 10692.71679688, 10750.72363281])"
            ]
          },
          "metadata": {},
          "execution_count": 69
        }
      ]
    },
    {
      "cell_type": "code",
      "source": [
        "#gives me the price differences in the environment\n",
        "env.signal_features"
      ],
      "metadata": {
        "colab": {
          "base_uri": "https://localhost:8080/"
        },
        "id": "rdx_eU7zjJbp",
        "outputId": "3bea728d-6811-41b5-a0ca-730b68422eb2"
      },
      "execution_count": null,
      "outputs": [
        {
          "output_type": "execute_result",
          "data": {
            "text/plain": [
              "array([[17527.        ,     0.        ],\n",
              "       [16477.59960938, -1049.40039062],\n",
              "       [15170.09960938, -1307.5       ],\n",
              "       ...,\n",
              "       [10760.06640625,   513.87988281],\n",
              "       [10692.71679688,   -67.34960938],\n",
              "       [10750.72363281,    58.00683594]])"
            ]
          },
          "metadata": {},
          "execution_count": 66
        }
      ]
    },
    {
      "cell_type": "code",
      "source": [
        "env.action_space"
      ],
      "metadata": {
        "colab": {
          "base_uri": "https://localhost:8080/"
        },
        "id": "Hiw74XeXl8F0",
        "outputId": "c9b56414-5492-406c-ca28-f8cc913f9405"
      },
      "execution_count": null,
      "outputs": [
        {
          "output_type": "stream",
          "name": "stderr",
          "text": [
            "/usr/local/lib/python3.9/dist-packages/ipykernel/ipkernel.py:283: DeprecationWarning: `should_run_async` will not call `transform_cell` automatically in the future. Please pass the result to `transformed_cell` argument and any exception that happen during thetransform in `preprocessing_exc_tuple` in IPython 7.17 and above.\n",
            "  and should_run_async(code)\n"
          ]
        },
        {
          "output_type": "execute_result",
          "data": {
            "text/plain": [
              "Discrete(2)"
            ]
          },
          "metadata": {},
          "execution_count": 68
        }
      ]
    },
    {
      "cell_type": "code",
      "source": [
        "#setting the initial state for the env. (windows)\n",
        "state = env.reset()\n",
        "while True:\n",
        "  #creating random steps by accessing the possible actions provided by the stock-v0 env via 'env.action_space' and storing it in the 'action' variable\n",
        "  #There are usually / by default only 2 actions that can occur in the stock environment, which is 'buy' or 'sell' -> Discrete(2)\n",
        "  #https://github.com/AminHP/gym-anytrading\n",
        "  action = env.action_space.sample()\n",
        "  n_state, reward, done, info = env.step(action)\n",
        "  if done:\n",
        "    print(\"info\", info)\n",
        "    break\n",
        "\n",
        "#visualizing the environment via matplotlib\n",
        "plt.figure(figsize=(16,10))\n",
        "plt.cla()\n",
        "env.render_all()\n",
        "plt.show()"
      ],
      "metadata": {
        "colab": {
          "base_uri": "https://localhost:8080/",
          "height": 1000
        },
        "id": "4hvjYEcmkijy",
        "outputId": "5a258b0b-7849-4139-8240-68664bfc51bd"
      },
      "execution_count": null,
      "outputs": [
        {
          "output_type": "stream",
          "name": "stderr",
          "text": [
            "/usr/local/lib/python3.9/dist-packages/ipykernel/ipkernel.py:283: DeprecationWarning: `should_run_async` will not call `transform_cell` automatically in the future. Please pass the result to `transformed_cell` argument and any exception that happen during thetransform in `preprocessing_exc_tuple` in IPython 7.17 and above.\n",
            "  and should_run_async(code)\n",
            "/usr/local/lib/python3.9/dist-packages/gym/utils/passive_env_checker.py:174: UserWarning: \u001b[33mWARN: Future gym versions will require that `Env.reset` can be passed a `seed` instead of using `Env.seed` for resetting the environment random number generator.\u001b[0m\n",
            "  logger.warn(\n",
            "/usr/local/lib/python3.9/dist-packages/gym/utils/passive_env_checker.py:190: UserWarning: \u001b[33mWARN: Future gym versions will require that `Env.reset` can be passed `return_info` to return information from the environment resetting.\u001b[0m\n",
            "  logger.warn(\n",
            "/usr/local/lib/python3.9/dist-packages/gym/utils/passive_env_checker.py:195: UserWarning: \u001b[33mWARN: Future gym versions will require that `Env.reset` can be passed `options` to allow the environment initialisation to be passed additional information.\u001b[0m\n",
            "  logger.warn(\n",
            "/usr/local/lib/python3.9/dist-packages/gym/utils/passive_env_checker.py:227: DeprecationWarning: \u001b[33mWARN: Core environment is written in old step API which returns one bool instead of two. It is recommended to rewrite the environment with new step API. \u001b[0m\n",
            "  logger.deprecation(\n"
          ]
        },
        {
          "output_type": "stream",
          "name": "stdout",
          "text": [
            "info {'total_reward': -5071.818115234375, 'total_profit': 0.014153412759917081, 'position': 0}\n"
          ]
        },
        {
          "output_type": "display_data",
          "data": {
            "text/plain": [
              "<Figure size 1600x1000 with 1 Axes>"
            ],
            "image/png": "[encoded data removed]"
          },
          "metadata": {}
        }
      ]
    },
    {
      "cell_type": "markdown",
      "source": [
        "# 3. Build Environment and Train"
      ],
      "metadata": {
        "id": "sYBUdoZT1tQt"
      }
    },
    {
      "cell_type": "code",
      "source": [
        "#creating a new RL environment but this time adding the lambda function in order for us to loopn through different env settings if needed\n",
        "env_maker = lambda: gym.make('stocks-v0', df=df, frame_bound=(10,1000), window_size=5)\n",
        "#adding teh new env. into the dummy algo and assigning it to the variable ='env'\n",
        "env = DummyVecEnv([env_maker])"
      ],
      "metadata": {
        "colab": {
          "base_uri": "https://localhost:8080/"
        },
        "id": "pEUAY6SO1zlI",
        "outputId": "ce7f19c0-b1b3-4c02-fc2a-62602af97fae"
      },
      "execution_count": null,
      "outputs": [
        {
          "output_type": "error",
          "ename": "NameError",
          "evalue": "ignored",
          "traceback": [
            "\u001b[0;31m---------------------------------------------------------------------------\u001b[0m",
            "\u001b[0;31mNameError\u001b[0m                                 Traceback (most recent call last)",
            "\u001b[0;32m<ipython-input-50-fa3ea8c8d192>\u001b[0m in \u001b[0;36m<cell line: 4>\u001b[0;34m()\u001b[0m\n\u001b[1;32m      2\u001b[0m \u001b[0menv_maker\u001b[0m \u001b[0;34m=\u001b[0m \u001b[0;32mlambda\u001b[0m\u001b[0;34m:\u001b[0m \u001b[0mgym\u001b[0m\u001b[0;34m.\u001b[0m\u001b[0mmake\u001b[0m\u001b[0;34m(\u001b[0m\u001b[0;34m'stocks-v0'\u001b[0m\u001b[0;34m,\u001b[0m \u001b[0mdf\u001b[0m\u001b[0;34m=\u001b[0m\u001b[0mdf\u001b[0m\u001b[0;34m,\u001b[0m \u001b[0mframe_bound\u001b[0m\u001b[0;34m=\u001b[0m\u001b[0;34m(\u001b[0m\u001b[0;36m10\u001b[0m\u001b[0;34m,\u001b[0m\u001b[0;36m1000\u001b[0m\u001b[0;34m)\u001b[0m\u001b[0;34m,\u001b[0m \u001b[0mwindow_size\u001b[0m\u001b[0;34m=\u001b[0m\u001b[0;36m5\u001b[0m\u001b[0;34m)\u001b[0m\u001b[0;34m\u001b[0m\u001b[0;34m\u001b[0m\u001b[0m\n\u001b[1;32m      3\u001b[0m \u001b[0;31m#adding teh new env. into the dummy algo and assigning it to the variable ='env'\u001b[0m\u001b[0;34m\u001b[0m\u001b[0;34m\u001b[0m\u001b[0m\n\u001b[0;32m----> 4\u001b[0;31m \u001b[0menv\u001b[0m \u001b[0;34m=\u001b[0m \u001b[0mDummyVecEnv\u001b[0m\u001b[0;34m(\u001b[0m\u001b[0;34m[\u001b[0m\u001b[0menv_maker\u001b[0m\u001b[0;34m]\u001b[0m\u001b[0;34m)\u001b[0m\u001b[0;34m\u001b[0m\u001b[0;34m\u001b[0m\u001b[0m\n\u001b[0m",
            "\u001b[0;31mNameError\u001b[0m: name 'DummyVecEnv' is not defined"
          ]
        }
      ]
    },
    {
      "cell_type": "code",
      "source": [
        "#adding the A2C algorithm to the model for the run of this env.\n",
        "#https://stable-baselines.readthedocs.io/en/master/modules/a2c.html\n",
        "\n",
        "model = A2C(\"MlpLstmPolicy\", env, verbose=1)\n",
        "model.learn(total_timesteps=25000)"
      ],
      "metadata": {
        "colab": {
          "base_uri": "https://localhost:8080/"
        },
        "id": "xTRyewnB3OqQ",
        "outputId": "8b93cc90-1dc2-497f-dddf-a49780292be5"
      },
      "execution_count": null,
      "outputs": [
        {
          "output_type": "error",
          "ename": "NameError",
          "evalue": "ignored",
          "traceback": [
            "\u001b[0;31m---------------------------------------------------------------------------\u001b[0m",
            "\u001b[0;31mNameError\u001b[0m                                 Traceback (most recent call last)",
            "\u001b[0;32m<ipython-input-51-6239cb41e6c5>\u001b[0m in \u001b[0;36m<cell line: 4>\u001b[0;34m()\u001b[0m\n\u001b[1;32m      2\u001b[0m \u001b[0;31m#https://stable-baselines.readthedocs.io/en/master/modules/a2c.html\u001b[0m\u001b[0;34m\u001b[0m\u001b[0;34m\u001b[0m\u001b[0m\n\u001b[1;32m      3\u001b[0m \u001b[0;34m\u001b[0m\u001b[0m\n\u001b[0;32m----> 4\u001b[0;31m \u001b[0mmodel\u001b[0m \u001b[0;34m=\u001b[0m \u001b[0mA2C\u001b[0m\u001b[0;34m(\u001b[0m\u001b[0;34m\"MlpLstmPolicy\"\u001b[0m\u001b[0;34m,\u001b[0m \u001b[0menv\u001b[0m\u001b[0;34m,\u001b[0m \u001b[0mverbose\u001b[0m\u001b[0;34m=\u001b[0m\u001b[0;36m1\u001b[0m\u001b[0;34m)\u001b[0m\u001b[0;34m\u001b[0m\u001b[0;34m\u001b[0m\u001b[0m\n\u001b[0m\u001b[1;32m      5\u001b[0m \u001b[0mmodel\u001b[0m\u001b[0;34m.\u001b[0m\u001b[0mlearn\u001b[0m\u001b[0;34m(\u001b[0m\u001b[0mtotal_timesteps\u001b[0m\u001b[0;34m=\u001b[0m\u001b[0;36m25000\u001b[0m\u001b[0;34m)\u001b[0m\u001b[0;34m\u001b[0m\u001b[0;34m\u001b[0m\u001b[0m\n",
            "\u001b[0;31mNameError\u001b[0m: name 'A2C' is not defined"
          ]
        }
      ]
    },
    {
      "cell_type": "markdown",
      "source": [
        "# Plan B Transformer Approach 1"
      ],
      "metadata": {
        "id": "byFvF75SZTQ-"
      }
    },
    {
      "cell_type": "code",
      "source": [
        "import pandas as pd\n",
        "import numpy as np\n",
        "import yfinance as yf\n",
        "import tensorflow as tf\n",
        "from transformers import TFBertForSequenceClassification, BertTokenizer\n",
        "\n",
        "# Load and preprocess data\n",
        "stock_data = yf.download(\"AAPL\", start=\"2020-01-01\", end=\"2023-04-13\")\n",
        "returns = np.log(stock_data['Adj Close']/stock_data['Adj Close'].shift(1))\n",
        "returns.dropna(inplace=True)\n",
        "\n",
        "# Load and preprocess labeled data\n",
        "labeled_data = df\n",
        "texts = [str(return_) for return_ in returns]\n",
        "labels = df['Close'].values\n",
        "\n",
        "# Tokenize data\n",
        "tokenizer = BertTokenizer.from_pretrained('bert-base-uncased')\n",
        "encoded_texts = tokenizer(texts, padding=True, truncation=True, return_tensors=\"tf\")\n",
        "\n",
        "# Define model architecture\n",
        "model = TFBertForSequenceClassification.from_pretrained('bert-base-uncased', num_labels=2)\n",
        "\n",
        "# Compile and fit model\n",
        "model.compile(optimizer=tf.keras.optimizers.Adam(learning_rate=1e-5), loss=model.compute_loss)\n",
        "model.fit(x=encoded_texts, y=labels, batch_size=32, epochs=3)"
      ],
      "metadata": {
        "colab": {
          "base_uri": "https://localhost:8080/",
          "height": 485
        },
        "id": "KJMtp8wnZYW2",
        "outputId": "37617102-045a-44a1-d4b4-ddb95eb72d80"
      },
      "execution_count": null,
      "outputs": [
        {
          "output_type": "stream",
          "name": "stdout",
          "text": [
            "\r[*********************100%***********************]  1 of 1 completed\n"
          ]
        },
        {
          "output_type": "stream",
          "name": "stderr",
          "text": [
            "All model checkpoint layers were used when initializing TFBertForSequenceClassification.\n",
            "\n",
            "Some layers of TFBertForSequenceClassification were not initialized from the model checkpoint at bert-base-uncased and are newly initialized: ['classifier']\n",
            "You should probably TRAIN this model on a down-stream task to be able to use it for predictions and inference.\n"
          ]
        },
        {
          "output_type": "error",
          "ename": "ValueError",
          "evalue": "ignored",
          "traceback": [
            "\u001b[0;31m---------------------------------------------------------------------------\u001b[0m",
            "\u001b[0;31mValueError\u001b[0m                                Traceback (most recent call last)",
            "\u001b[0;32m<ipython-input-11-aaa4cf2e55a1>\u001b[0m in \u001b[0;36m<cell line: 26>\u001b[0;34m()\u001b[0m\n\u001b[1;32m     24\u001b[0m \u001b[0;31m# Compile and fit model\u001b[0m\u001b[0;34m\u001b[0m\u001b[0;34m\u001b[0m\u001b[0m\n\u001b[1;32m     25\u001b[0m \u001b[0mmodel\u001b[0m\u001b[0;34m.\u001b[0m\u001b[0mcompile\u001b[0m\u001b[0;34m(\u001b[0m\u001b[0moptimizer\u001b[0m\u001b[0;34m=\u001b[0m\u001b[0mtf\u001b[0m\u001b[0;34m.\u001b[0m\u001b[0mkeras\u001b[0m\u001b[0;34m.\u001b[0m\u001b[0moptimizers\u001b[0m\u001b[0;34m.\u001b[0m\u001b[0mAdam\u001b[0m\u001b[0;34m(\u001b[0m\u001b[0mlearning_rate\u001b[0m\u001b[0;34m=\u001b[0m\u001b[0;36m1e-5\u001b[0m\u001b[0;34m)\u001b[0m\u001b[0;34m,\u001b[0m \u001b[0mloss\u001b[0m\u001b[0;34m=\u001b[0m\u001b[0mmodel\u001b[0m\u001b[0;34m.\u001b[0m\u001b[0mcompute_loss\u001b[0m\u001b[0;34m)\u001b[0m\u001b[0;34m\u001b[0m\u001b[0;34m\u001b[0m\u001b[0m\n\u001b[0;32m---> 26\u001b[0;31m \u001b[0mmodel\u001b[0m\u001b[0;34m.\u001b[0m\u001b[0mfit\u001b[0m\u001b[0;34m(\u001b[0m\u001b[0mx\u001b[0m\u001b[0;34m=\u001b[0m\u001b[0mencoded_texts\u001b[0m\u001b[0;34m,\u001b[0m \u001b[0my\u001b[0m\u001b[0;34m=\u001b[0m\u001b[0mlabels\u001b[0m\u001b[0;34m,\u001b[0m \u001b[0mbatch_size\u001b[0m\u001b[0;34m=\u001b[0m\u001b[0;36m32\u001b[0m\u001b[0;34m,\u001b[0m \u001b[0mepochs\u001b[0m\u001b[0;34m=\u001b[0m\u001b[0;36m3\u001b[0m\u001b[0;34m)\u001b[0m\u001b[0;34m\u001b[0m\u001b[0;34m\u001b[0m\u001b[0m\n\u001b[0m",
            "\u001b[0;32m/usr/local/lib/python3.9/dist-packages/keras/utils/traceback_utils.py\u001b[0m in \u001b[0;36merror_handler\u001b[0;34m(*args, **kwargs)\u001b[0m\n\u001b[1;32m     68\u001b[0m             \u001b[0;31m# To get the full stack trace, call:\u001b[0m\u001b[0;34m\u001b[0m\u001b[0;34m\u001b[0m\u001b[0m\n\u001b[1;32m     69\u001b[0m             \u001b[0;31m# `tf.debugging.disable_traceback_filtering()`\u001b[0m\u001b[0;34m\u001b[0m\u001b[0;34m\u001b[0m\u001b[0m\n\u001b[0;32m---> 70\u001b[0;31m             \u001b[0;32mraise\u001b[0m \u001b[0me\u001b[0m\u001b[0;34m.\u001b[0m\u001b[0mwith_traceback\u001b[0m\u001b[0;34m(\u001b[0m\u001b[0mfiltered_tb\u001b[0m\u001b[0;34m)\u001b[0m \u001b[0;32mfrom\u001b[0m \u001b[0;32mNone\u001b[0m\u001b[0;34m\u001b[0m\u001b[0;34m\u001b[0m\u001b[0m\n\u001b[0m\u001b[1;32m     71\u001b[0m         \u001b[0;32mfinally\u001b[0m\u001b[0;34m:\u001b[0m\u001b[0;34m\u001b[0m\u001b[0;34m\u001b[0m\u001b[0m\n\u001b[1;32m     72\u001b[0m             \u001b[0;32mdel\u001b[0m \u001b[0mfiltered_tb\u001b[0m\u001b[0;34m\u001b[0m\u001b[0;34m\u001b[0m\u001b[0m\n",
            "\u001b[0;32m/usr/local/lib/python3.9/dist-packages/keras/engine/data_adapter.py\u001b[0m in \u001b[0;36m_check_data_cardinality\u001b[0;34m(data)\u001b[0m\n\u001b[1;32m   1850\u001b[0m             )\n\u001b[1;32m   1851\u001b[0m         \u001b[0mmsg\u001b[0m \u001b[0;34m+=\u001b[0m \u001b[0;34m\"Make sure all arrays contain the same number of samples.\"\u001b[0m\u001b[0;34m\u001b[0m\u001b[0;34m\u001b[0m\u001b[0m\n\u001b[0;32m-> 1852\u001b[0;31m         \u001b[0;32mraise\u001b[0m \u001b[0mValueError\u001b[0m\u001b[0;34m(\u001b[0m\u001b[0mmsg\u001b[0m\u001b[0;34m)\u001b[0m\u001b[0;34m\u001b[0m\u001b[0;34m\u001b[0m\u001b[0m\n\u001b[0m\u001b[1;32m   1853\u001b[0m \u001b[0;34m\u001b[0m\u001b[0m\n\u001b[1;32m   1854\u001b[0m \u001b[0;34m\u001b[0m\u001b[0m\n",
            "\u001b[0;31mValueError\u001b[0m: Data cardinality is ambiguous:\n  x sizes: 824, 824, 824\n  y sizes: 2556\nMake sure all arrays contain the same number of samples."
          ]
        }
      ]
    }
  ]
}